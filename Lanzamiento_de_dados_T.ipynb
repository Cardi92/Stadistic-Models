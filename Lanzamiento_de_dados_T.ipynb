{
  "nbformat": 4,
  "nbformat_minor": 0,
  "metadata": {
    "colab": {
      "provenance": []
    },
    "kernelspec": {
      "name": "python3",
      "display_name": "Python 3"
    },
    "language_info": {
      "name": "python"
    }
  },
  "cells": [
    {
      "cell_type": "markdown",
      "source": [
        "### Ejercicios BY David Cariño Díaz:\n",
        "1.- Documenta tu colab.\n",
        "\n",
        "2.- Calcula la ley de las siguientes variables aleatorias:\n",
        "\n",
        "1.          - La diferencia de las caras sea mayor que $1$.\n",
        "\n",
        "    - La suma de las caras sea par.\n",
        "\n",
        "3.- Verifica, en cada caso, que $$\\sum_{k\\in R_{X}}\\mathbb{P}(X=x)=1.$$\n",
        "\n",
        "4.- Sube tu notebook a tu GitHub.\n",
        "\n"
      ],
      "metadata": {
        "id": "Icdg1EZd6PDh"
      }
    },
    {
      "cell_type": "code",
      "source": [
        "# Improtamos todas las librerias necesarias para el ejercicio\n",
        "from itertools import product\n",
        "from fractions import Fraction\n",
        "from collections import defaultdict\n",
        "import pandas as pd"
      ],
      "metadata": {
        "id": "jFFkbNMm6GyE"
      },
      "execution_count": null,
      "outputs": []
    },
    {
      "cell_type": "code",
      "source": [
        "# Creamos la función que nos ayudará a calcular la probabilidad de cada evento\n",
        "def P(A, Omega):\n",
        "  P = Fraction(len(A), len(Omega) )\n",
        "  return P"
      ],
      "metadata": {
        "id": "J2fPSqVg7X-X"
      },
      "execution_count": null,
      "outputs": []
    },
    {
      "cell_type": "code",
      "source": [
        "# Definimos el espacio muestral de nuestro experimento\n",
        "L = [i for i in range(1,7)]\n",
        "Omega = set(product(L, repeat =2 ))\n"
      ],
      "metadata": {
        "id": "EgvWjBha7hHM"
      },
      "execution_count": null,
      "outputs": []
    },
    {
      "cell_type": "markdown",
      "source": [
        "#2.1"
      ],
      "metadata": {
        "id": "nbXkixrflPoX"
      }
    },
    {
      "cell_type": "code",
      "source": [
        "S1 = {(i,j): abs(i-j) for i,j in Omega if abs(i-j)>1}\n",
        "S1"
      ],
      "metadata": {
        "colab": {
          "base_uri": "https://localhost:8080/"
        },
        "id": "POy2d4ilmDC5",
        "outputId": "6ce032af-3257-4a73-e02e-a533268532c7"
      },
      "execution_count": null,
      "outputs": [
        {
          "output_type": "execute_result",
          "data": {
            "text/plain": [
              "{(3, 1): 2,\n",
              " (4, 6): 2,\n",
              " (5, 1): 4,\n",
              " (1, 6): 5,\n",
              " (2, 5): 3,\n",
              " (1, 3): 2,\n",
              " (6, 2): 4,\n",
              " (4, 2): 2,\n",
              " (3, 6): 3,\n",
              " (5, 3): 2,\n",
              " (2, 4): 2,\n",
              " (1, 5): 4,\n",
              " (6, 1): 5,\n",
              " (6, 4): 2,\n",
              " (4, 1): 3,\n",
              " (3, 5): 2,\n",
              " (5, 2): 3,\n",
              " (1, 4): 3,\n",
              " (2, 6): 4,\n",
              " (6, 3): 3}"
            ]
          },
          "metadata": {},
          "execution_count": 42
        }
      ]
    },
    {
      "cell_type": "code",
      "source": [
        "# Definimos al evento S1 que tiene los casos donde al lanzar 2 dados la diferencia entre los valores de las caras sea mayor a 1 y le damos formato para trabajar a S1, ahora como dS1, para poder trabajarlo\n",
        "S1 = {(i,j): abs(i-j) for i,j in Omega if abs(i-j)>=0}\n",
        "dS1 = defaultdict(set)\n",
        "for l, v in S1.items():\n",
        "  dS1[v].add(l)\n",
        "dS1"
      ],
      "metadata": {
        "colab": {
          "base_uri": "https://localhost:8080/"
        },
        "id": "qevQ2aR6m6PS",
        "outputId": "b1caec9f-2144-461e-a4ed-7b8456caca37"
      },
      "execution_count": null,
      "outputs": [
        {
          "output_type": "execute_result",
          "data": {
            "text/plain": [
              "defaultdict(set,\n",
              "            {1: {(1, 2),\n",
              "              (2, 1),\n",
              "              (2, 3),\n",
              "              (3, 2),\n",
              "              (3, 4),\n",
              "              (4, 3),\n",
              "              (4, 5),\n",
              "              (5, 4),\n",
              "              (5, 6),\n",
              "              (6, 5)},\n",
              "             2: {(1, 3),\n",
              "              (2, 4),\n",
              "              (3, 1),\n",
              "              (3, 5),\n",
              "              (4, 2),\n",
              "              (4, 6),\n",
              "              (5, 3),\n",
              "              (6, 4)},\n",
              "             4: {(1, 5), (2, 6), (5, 1), (6, 2)},\n",
              "             0: {(1, 1), (2, 2), (3, 3), (4, 4), (5, 5), (6, 6)},\n",
              "             5: {(1, 6), (6, 1)},\n",
              "             3: {(1, 4), (2, 5), (3, 6), (4, 1), (5, 2), (6, 3)}})"
            ]
          },
          "metadata": {},
          "execution_count": 48
        }
      ]
    },
    {
      "cell_type": "code",
      "source": [
        "# Generamos la Ley de S1\n",
        "leyS1 = {k : P(A,Omega) for k , A in dS1.items() }\n",
        "leyS1 = pd.Series(leyS1)\n",
        "leyS1 = leyS1.sort_index()\n",
        "leyS1"
      ],
      "metadata": {
        "colab": {
          "base_uri": "https://localhost:8080/"
        },
        "id": "qWLZpBSl7uVh",
        "outputId": "04eed5ce-0af3-4a8f-b344-3d896a4c41d7"
      },
      "execution_count": null,
      "outputs": [
        {
          "output_type": "execute_result",
          "data": {
            "text/plain": [
              "0     1/6\n",
              "1    5/18\n",
              "2     2/9\n",
              "3     1/6\n",
              "4     1/9\n",
              "5    1/18\n",
              "dtype: object"
            ]
          },
          "metadata": {},
          "execution_count": 49
        }
      ]
    },
    {
      "cell_type": "code",
      "source": [
        "# Comprobamos que los valores de nuestra Ley obtenida sea 1\n",
        "F = sum(leyS1)\n",
        "F"
      ],
      "metadata": {
        "colab": {
          "base_uri": "https://localhost:8080/"
        },
        "id": "eQVW1q2m77Gs",
        "outputId": "af7b9b6c-59ec-435e-fe9f-effd0ce2712f"
      },
      "execution_count": null,
      "outputs": [
        {
          "output_type": "execute_result",
          "data": {
            "text/plain": [
              "Fraction(1, 1)"
            ]
          },
          "metadata": {},
          "execution_count": 51
        }
      ]
    },
    {
      "cell_type": "code",
      "source": [
        "S = {(i,j): i+j for i,j in Omega if (i+j)%2==0}\n",
        "len(S)"
      ],
      "metadata": {
        "colab": {
          "base_uri": "https://localhost:8080/"
        },
        "id": "V-AZrAAmsy1W",
        "outputId": "802f24f7-ba61-41f4-fa92-62b37fb02fdd"
      },
      "execution_count": null,
      "outputs": [
        {
          "output_type": "execute_result",
          "data": {
            "text/plain": [
              "18"
            ]
          },
          "metadata": {},
          "execution_count": 68
        }
      ]
    },
    {
      "cell_type": "code",
      "source": [
        "dS = defaultdict(set)\n",
        "for l, v in S.items():\n",
        "  dS[v].add(l)\n",
        "dS"
      ],
      "metadata": {
        "colab": {
          "base_uri": "https://localhost:8080/"
        },
        "id": "dVCqCjb1ttoZ",
        "outputId": "2203ac93-8763-446b-f083-bd3e689b70df"
      },
      "execution_count": null,
      "outputs": [
        {
          "output_type": "execute_result",
          "data": {
            "text/plain": [
              "defaultdict(set,\n",
              "            {4: {(1, 3), (2, 2), (3, 1)},\n",
              "             10: {(4, 6), (5, 5), (6, 4)},\n",
              "             6: {(1, 5), (2, 4), (3, 3), (4, 2), (5, 1)},\n",
              "             8: {(2, 6), (3, 5), (4, 4), (5, 3), (6, 2)},\n",
              "             2: {(1, 1)},\n",
              "             12: {(6, 6)}})"
            ]
          },
          "metadata": {},
          "execution_count": 56
        }
      ]
    },
    {
      "cell_type": "code",
      "source": [
        "CASE2 = {k : P(A,Omega) for k , A in dS.items() }\n",
        "C2 = pd.Series(CASE2)\n",
        "sum(C2)"
      ],
      "metadata": {
        "colab": {
          "base_uri": "https://localhost:8080/"
        },
        "id": "HlOwSYnZu9Xz",
        "outputId": "541143a7-b9b7-4e33-e0f1-44efcab3a80a"
      },
      "execution_count": null,
      "outputs": [
        {
          "output_type": "execute_result",
          "data": {
            "text/plain": [
              "Fraction(1, 2)"
            ]
          },
          "metadata": {},
          "execution_count": 71
        }
      ]
    },
    {
      "cell_type": "code",
      "source": [],
      "metadata": {
        "id": "HOSXqIyYoRQ7"
      },
      "execution_count": null,
      "outputs": []
    }
  ]
}