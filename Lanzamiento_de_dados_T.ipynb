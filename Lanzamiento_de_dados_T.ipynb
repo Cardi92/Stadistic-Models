{
  "nbformat": 4,
  "nbformat_minor": 0,
  "metadata": {
    "colab": {
      "provenance": []
    },
    "kernelspec": {
      "name": "python3",
      "display_name": "Python 3"
    },
    "language_info": {
      "name": "python"
    }
  },
  "cells": [
    {
      "cell_type": "markdown",
      "source": [
        "### Ejercicios BY David Cariño Díaz:\n",
        "1.- Documenta tu colab.\n",
        "\n",
        "2.- Calcula la ley de las siguientes variables aleatorias:\n",
        "\n",
        "1.          - La diferencia de las caras sea mayor que $1$.\n",
        "\n",
        "    - La suma de las caras sea par.\n",
        "\n",
        "3.- Verifica, en cada caso, que $$\\sum_{k\\in R_{X}}\\mathbb{P}(X=x)=1.$$\n",
        "\n",
        "4.- Sube tu notebook a tu GitHub.\n",
        "\n"
      ],
      "metadata": {
        "id": "Icdg1EZd6PDh"
      }
    },
    {
      "cell_type": "code",
      "source": [
        "# Improtamos todas las librerias necesarias para el ejercicio\n",
        "from itertools import product\n",
        "from fractions import Fraction\n",
        "from collections import defaultdict\n",
        "import pandas as pd"
      ],
      "metadata": {
        "id": "jFFkbNMm6GyE"
      },
      "execution_count": 92,
      "outputs": []
    },
    {
      "cell_type": "code",
      "source": [
        "# Creamos la función que nos ayudará a calcular la probabilidad de cada evento\n",
        "def P(A, Omega):\n",
        "  P = Fraction(len(A), len(Omega) )\n",
        "  return P"
      ],
      "metadata": {
        "id": "J2fPSqVg7X-X"
      },
      "execution_count": 93,
      "outputs": []
    },
    {
      "cell_type": "code",
      "source": [
        "# Definimos el espacio muestral de nuestro experimento\n",
        "L = [i for i in range(1,7)]\n",
        "Omega = set(product(L, repeat =2 ))\n"
      ],
      "metadata": {
        "id": "EgvWjBha7hHM"
      },
      "execution_count": 94,
      "outputs": []
    },
    {
      "cell_type": "markdown",
      "source": [
        "#2.1"
      ],
      "metadata": {
        "id": "nbXkixrflPoX"
      }
    },
    {
      "cell_type": "code",
      "source": [
        "# Sea la v.a. X = La diferencia del valor de las caras de dos dados justo lanzados\n",
        "# Procesemos a describir todos los posibles valores de X\n",
        "S1 = {(i,j): abs(i-j) for i,j in Omega if abs(i-j)>=0}\n",
        "dS1 = defaultdict(set)\n",
        "for l, v in S1.items():\n",
        "  dS1[v].add(l)\n",
        "dS1"
      ],
      "metadata": {
        "colab": {
          "base_uri": "https://localhost:8080/"
        },
        "id": "qevQ2aR6m6PS",
        "outputId": "66117b67-48c2-4595-b013-971a4e50f3a0"
      },
      "execution_count": 95,
      "outputs": [
        {
          "output_type": "execute_result",
          "data": {
            "text/plain": [
              "defaultdict(set,\n",
              "            {1: {(1, 2),\n",
              "              (2, 1),\n",
              "              (2, 3),\n",
              "              (3, 2),\n",
              "              (3, 4),\n",
              "              (4, 3),\n",
              "              (4, 5),\n",
              "              (5, 4),\n",
              "              (5, 6),\n",
              "              (6, 5)},\n",
              "             2: {(1, 3),\n",
              "              (2, 4),\n",
              "              (3, 1),\n",
              "              (3, 5),\n",
              "              (4, 2),\n",
              "              (4, 6),\n",
              "              (5, 3),\n",
              "              (6, 4)},\n",
              "             4: {(1, 5), (2, 6), (5, 1), (6, 2)},\n",
              "             0: {(1, 1), (2, 2), (3, 3), (4, 4), (5, 5), (6, 6)},\n",
              "             5: {(1, 6), (6, 1)},\n",
              "             3: {(1, 4), (2, 5), (3, 6), (4, 1), (5, 2), (6, 3)}})"
            ]
          },
          "metadata": {},
          "execution_count": 95
        }
      ]
    },
    {
      "cell_type": "code",
      "source": [
        "# Generamos la Ley de S1\n",
        "leyS1 = {k : P(A,Omega) for k , A in dS1.items() }\n",
        "leyS1 = pd.Series(leyS1)\n",
        "leyS1 = leyS1.sort_index()\n",
        "leyS1"
      ],
      "metadata": {
        "colab": {
          "base_uri": "https://localhost:8080/"
        },
        "id": "qWLZpBSl7uVh",
        "outputId": "95afc7fd-8c7f-49d6-e313-168abd5aff91"
      },
      "execution_count": 96,
      "outputs": [
        {
          "output_type": "execute_result",
          "data": {
            "text/plain": [
              "0     1/6\n",
              "1    5/18\n",
              "2     2/9\n",
              "3     1/6\n",
              "4     1/9\n",
              "5    1/18\n",
              "dtype: object"
            ]
          },
          "metadata": {},
          "execution_count": 96
        }
      ]
    },
    {
      "cell_type": "markdown",
      "source": [
        "#2.2"
      ],
      "metadata": {
        "id": "8xxv-mKS4_8j"
      }
    },
    {
      "cell_type": "code",
      "source": [
        "# Sea la v.a. X = La suma de los valores obtenidos al lanza dos dados justos\n",
        "# Procesemos a describir todos los posibles valores de X\n",
        "dS2 = defaultdict(set)\n",
        "for l, v in S2.items():\n",
        "  dS2[v].add(l)\n",
        "len(S2)"
      ],
      "metadata": {
        "colab": {
          "base_uri": "https://localhost:8080/"
        },
        "id": "WmMKddVs4oYT",
        "outputId": "7fa61862-7226-4b1e-91cd-cd52c0fcddf6"
      },
      "execution_count": 97,
      "outputs": [
        {
          "output_type": "execute_result",
          "data": {
            "text/plain": [
              "36"
            ]
          },
          "metadata": {},
          "execution_count": 97
        }
      ]
    },
    {
      "cell_type": "code",
      "source": [
        "# Generamos la Ley de S2\n",
        "leyS2 = {k : P(A,Omega) for k , A in dS2.items() }\n",
        "leyS2 = pd.Series(leyS2)\n",
        "leyS2 = leyS2.sort_index()\n",
        "leyS2"
      ],
      "metadata": {
        "colab": {
          "base_uri": "https://localhost:8080/"
        },
        "id": "IAaDFsx65cV2",
        "outputId": "c64e06b8-3531-46e5-edc4-42daa017e70e"
      },
      "execution_count": 98,
      "outputs": [
        {
          "output_type": "execute_result",
          "data": {
            "text/plain": [
              "2     1/36\n",
              "3     1/18\n",
              "4     1/12\n",
              "5      1/9\n",
              "6     5/36\n",
              "7      1/6\n",
              "8     5/36\n",
              "9      1/9\n",
              "10    1/12\n",
              "11    1/18\n",
              "12    1/36\n",
              "dtype: object"
            ]
          },
          "metadata": {},
          "execution_count": 98
        }
      ]
    },
    {
      "cell_type": "markdown",
      "source": [
        "#3.1 y 3.2"
      ],
      "metadata": {
        "id": "Urs936735sr-"
      }
    },
    {
      "cell_type": "code",
      "source": [
        "# Comprobamos que los valores de nuestra Ley obtenida sea 1\n",
        "R = sum(leyS1)\n",
        "R"
      ],
      "metadata": {
        "colab": {
          "base_uri": "https://localhost:8080/"
        },
        "id": "eQVW1q2m77Gs",
        "outputId": "4a226474-df0d-46b4-eef5-fa930d5db89a"
      },
      "execution_count": 99,
      "outputs": [
        {
          "output_type": "execute_result",
          "data": {
            "text/plain": [
              "Fraction(1, 1)"
            ]
          },
          "metadata": {},
          "execution_count": 99
        }
      ]
    },
    {
      "cell_type": "code",
      "source": [
        "# Comprobamos que los valores de nuestra Ley obtenida sea 1\n",
        "R = sum(leyS2)\n",
        "R"
      ],
      "metadata": {
        "colab": {
          "base_uri": "https://localhost:8080/"
        },
        "id": "8UF6m_tl51bW",
        "outputId": "3a87a350-a5be-4b3b-cf1c-2511851b9baa"
      },
      "execution_count": 100,
      "outputs": [
        {
          "output_type": "execute_result",
          "data": {
            "text/plain": [
              "Fraction(1, 1)"
            ]
          },
          "metadata": {},
          "execution_count": 100
        }
      ]
    },
    {
      "cell_type": "markdown",
      "source": [
        "#2.0 CALCULO DE LAS PROBABILIDADES\n",
        "## La diferencia de las caras sea mayor que $1$."
      ],
      "metadata": {
        "id": "oHS5Jihi5-Nu"
      }
    },
    {
      "cell_type": "code",
      "source": [
        "# Definimos al evento A1 que tiene los casos donde al lanzar 2 dados la diferencia entre los valores de las caras sea mayor a 1\n",
        "A1 = {(i,j): abs(i-j) for i,j in Omega if abs(i-j)>1}\n",
        "dA1 = defaultdict(set)\n",
        "for l, v in A1.items():\n",
        "  dA1[v].add(l)\n",
        "dA1"
      ],
      "metadata": {
        "colab": {
          "base_uri": "https://localhost:8080/"
        },
        "id": "POy2d4ilmDC5",
        "outputId": "8af4a3e1-0df3-4174-d0cd-7203378c5b4b"
      },
      "execution_count": 101,
      "outputs": [
        {
          "output_type": "execute_result",
          "data": {
            "text/plain": [
              "defaultdict(set,\n",
              "            {2: {(1, 3),\n",
              "              (2, 4),\n",
              "              (3, 1),\n",
              "              (3, 5),\n",
              "              (4, 2),\n",
              "              (4, 6),\n",
              "              (5, 3),\n",
              "              (6, 4)},\n",
              "             4: {(1, 5), (2, 6), (5, 1), (6, 2)},\n",
              "             5: {(1, 6), (6, 1)},\n",
              "             3: {(1, 4), (2, 5), (3, 6), (4, 1), (5, 2), (6, 3)}})"
            ]
          },
          "metadata": {},
          "execution_count": 101
        }
      ]
    },
    {
      "cell_type": "code",
      "source": [
        "# Calculamos la probabilidad de las posibilidades obtenidad arriba\n",
        "PA1 = {k : P(A,Omega) for k , A in dA1.items() }\n",
        "PA1 = pd.Series(PA1)\n",
        "#Sumamos para obtener P(X>1) = P(X=2) + P(X=3) + P(X=4) P(X=5)\n",
        "sum(PA1)"
      ],
      "metadata": {
        "colab": {
          "base_uri": "https://localhost:8080/"
        },
        "id": "UYS6Ihui7Jev",
        "outputId": "23b01f9b-82c0-4dc0-9330-43dbe357bac0"
      },
      "execution_count": 102,
      "outputs": [
        {
          "output_type": "execute_result",
          "data": {
            "text/plain": [
              "Fraction(5, 9)"
            ]
          },
          "metadata": {},
          "execution_count": 102
        }
      ]
    },
    {
      "cell_type": "markdown",
      "source": [
        "##La suma de las caras sea par."
      ],
      "metadata": {
        "id": "Igw30l1m6M6y"
      }
    },
    {
      "cell_type": "code",
      "source": [
        "# Definimos al evento A2 que tiene los casos donde la suma de las caras sea un valor par\n",
        "A2 = {(i,j): i+j for i,j in Omega if (i+j)%2==0}\n",
        "dA2 = defaultdict(set)\n",
        "for l, v in A2.items():\n",
        "  dA2[v].add(l)\n",
        "dA2"
      ],
      "metadata": {
        "colab": {
          "base_uri": "https://localhost:8080/"
        },
        "id": "dVCqCjb1ttoZ",
        "outputId": "5abea0bb-2849-4ddd-86b3-52663a2bfcac"
      },
      "execution_count": 103,
      "outputs": [
        {
          "output_type": "execute_result",
          "data": {
            "text/plain": [
              "defaultdict(set,\n",
              "            {4: {(1, 3), (2, 2), (3, 1)},\n",
              "             10: {(4, 6), (5, 5), (6, 4)},\n",
              "             6: {(1, 5), (2, 4), (3, 3), (4, 2), (5, 1)},\n",
              "             8: {(2, 6), (3, 5), (4, 4), (5, 3), (6, 2)},\n",
              "             2: {(1, 1)},\n",
              "             12: {(6, 6)}})"
            ]
          },
          "metadata": {},
          "execution_count": 103
        }
      ]
    },
    {
      "cell_type": "code",
      "source": [
        "# Calculamos la probabilidad de las posibilidades obtenidad arriba\n",
        "PA2 = {k : P(A,Omega) for k , A in dA2.items() }\n",
        "PA2 = pd.Series(PA2)\n",
        "#Sumamos para obtener P({X sea par}) = P(X=2) + P(X=4) + P(X=6) + P(X=8) + P(X=10) + P(X=12)\n",
        "sum(PA2)"
      ],
      "metadata": {
        "colab": {
          "base_uri": "https://localhost:8080/"
        },
        "id": "HlOwSYnZu9Xz",
        "outputId": "f85d16fa-d5f0-4b9e-bc94-c43f1114bd5c"
      },
      "execution_count": 104,
      "outputs": [
        {
          "output_type": "execute_result",
          "data": {
            "text/plain": [
              "Fraction(1, 2)"
            ]
          },
          "metadata": {},
          "execution_count": 104
        }
      ]
    }
  ]
}